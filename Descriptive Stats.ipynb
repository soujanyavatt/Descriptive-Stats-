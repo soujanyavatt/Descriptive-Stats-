{
 "cells": [
  {
   "cell_type": "markdown",
   "id": "4a0f7302",
   "metadata": {},
   "source": [
    "## Import the required libraries"
   ]
  },
  {
   "cell_type": "code",
   "execution_count": 1,
   "id": "54fd049a",
   "metadata": {},
   "outputs": [],
   "source": [
    "import pandas as pd\n",
    "import numpy as np\n",
    "import seaborn as sns\n",
    "import matplotlib.pyplot as plt\n",
    "import warnings\n",
    "warnings.filterwarnings('ignore')\n",
    "import scipy.stats as stats\n",
    "from scipy.stats import boxcox"
   ]
  },
  {
   "cell_type": "markdown",
   "id": "e1618533",
   "metadata": {},
   "source": [
    "#### Load the dataset"
   ]
  },
  {
   "cell_type": "code",
   "execution_count": 2,
   "id": "3d5303ad",
   "metadata": {},
   "outputs": [
    {
     "data": {
      "text/html": [
       "<div>\n",
       "<style scoped>\n",
       "    .dataframe tbody tr th:only-of-type {\n",
       "        vertical-align: middle;\n",
       "    }\n",
       "\n",
       "    .dataframe tbody tr th {\n",
       "        vertical-align: top;\n",
       "    }\n",
       "\n",
       "    .dataframe thead th {\n",
       "        text-align: right;\n",
       "    }\n",
       "</style>\n",
       "<table border=\"1\" class=\"dataframe\">\n",
       "  <thead>\n",
       "    <tr style=\"text-align: right;\">\n",
       "      <th></th>\n",
       "      <th>Mthly_HH_Income</th>\n",
       "      <th>Mthly_HH_Expense</th>\n",
       "      <th>No_of_Fly_Members</th>\n",
       "      <th>Emi_or_Rent_Amt</th>\n",
       "      <th>Annual_HH_Income</th>\n",
       "      <th>Highest_Qualified_Member</th>\n",
       "      <th>No_of_Earning_Members</th>\n",
       "    </tr>\n",
       "  </thead>\n",
       "  <tbody>\n",
       "    <tr>\n",
       "      <th>0</th>\n",
       "      <td>5000</td>\n",
       "      <td>8000</td>\n",
       "      <td>3</td>\n",
       "      <td>2000</td>\n",
       "      <td>64200</td>\n",
       "      <td>Under-Graduate</td>\n",
       "      <td>1</td>\n",
       "    </tr>\n",
       "    <tr>\n",
       "      <th>1</th>\n",
       "      <td>6000</td>\n",
       "      <td>7000</td>\n",
       "      <td>2</td>\n",
       "      <td>3000</td>\n",
       "      <td>79920</td>\n",
       "      <td>Illiterate</td>\n",
       "      <td>1</td>\n",
       "    </tr>\n",
       "    <tr>\n",
       "      <th>2</th>\n",
       "      <td>10000</td>\n",
       "      <td>4500</td>\n",
       "      <td>2</td>\n",
       "      <td>0</td>\n",
       "      <td>112800</td>\n",
       "      <td>Under-Graduate</td>\n",
       "      <td>1</td>\n",
       "    </tr>\n",
       "    <tr>\n",
       "      <th>3</th>\n",
       "      <td>10000</td>\n",
       "      <td>2000</td>\n",
       "      <td>1</td>\n",
       "      <td>0</td>\n",
       "      <td>97200</td>\n",
       "      <td>Illiterate</td>\n",
       "      <td>1</td>\n",
       "    </tr>\n",
       "    <tr>\n",
       "      <th>4</th>\n",
       "      <td>12500</td>\n",
       "      <td>12000</td>\n",
       "      <td>2</td>\n",
       "      <td>3000</td>\n",
       "      <td>147000</td>\n",
       "      <td>Graduate</td>\n",
       "      <td>1</td>\n",
       "    </tr>\n",
       "  </tbody>\n",
       "</table>\n",
       "</div>"
      ],
      "text/plain": [
       "   Mthly_HH_Income  Mthly_HH_Expense  No_of_Fly_Members  Emi_or_Rent_Amt  \\\n",
       "0             5000              8000                  3             2000   \n",
       "1             6000              7000                  2             3000   \n",
       "2            10000              4500                  2                0   \n",
       "3            10000              2000                  1                0   \n",
       "4            12500             12000                  2             3000   \n",
       "\n",
       "   Annual_HH_Income Highest_Qualified_Member  No_of_Earning_Members  \n",
       "0             64200           Under-Graduate                      1  \n",
       "1             79920               Illiterate                      1  \n",
       "2            112800           Under-Graduate                      1  \n",
       "3             97200               Illiterate                      1  \n",
       "4            147000                 Graduate                      1  "
      ]
     },
     "execution_count": 2,
     "metadata": {},
     "output_type": "execute_result"
    }
   ],
   "source": [
    "df = pd.read_csv('data_stats.csv')\n",
    "df.head()"
   ]
  },
  {
   "cell_type": "markdown",
   "id": "31a5cb86",
   "metadata": {},
   "source": [
    "### Shape of the dataset"
   ]
  },
  {
   "cell_type": "code",
   "execution_count": 3,
   "id": "33b90c02",
   "metadata": {},
   "outputs": [
    {
     "data": {
      "text/plain": [
       "(50, 7)"
      ]
     },
     "execution_count": 3,
     "metadata": {},
     "output_type": "execute_result"
    }
   ],
   "source": [
    "df.shape"
   ]
  },
  {
   "cell_type": "markdown",
   "id": "b0c749a5",
   "metadata": {},
   "source": [
    "#### Info about the dataset"
   ]
  },
  {
   "cell_type": "code",
   "execution_count": 4,
   "id": "9c0e2731",
   "metadata": {},
   "outputs": [
    {
     "name": "stdout",
     "output_type": "stream",
     "text": [
      "<class 'pandas.core.frame.DataFrame'>\n",
      "RangeIndex: 50 entries, 0 to 49\n",
      "Data columns (total 7 columns):\n",
      " #   Column                    Non-Null Count  Dtype \n",
      "---  ------                    --------------  ----- \n",
      " 0   Mthly_HH_Income           50 non-null     int64 \n",
      " 1   Mthly_HH_Expense          50 non-null     int64 \n",
      " 2   No_of_Fly_Members         50 non-null     int64 \n",
      " 3   Emi_or_Rent_Amt           50 non-null     int64 \n",
      " 4   Annual_HH_Income          50 non-null     int64 \n",
      " 5   Highest_Qualified_Member  50 non-null     object\n",
      " 6   No_of_Earning_Members     50 non-null     int64 \n",
      "dtypes: int64(6), object(1)\n",
      "memory usage: 2.9+ KB\n"
     ]
    }
   ],
   "source": [
    "df.info()"
   ]
  },
  {
   "cell_type": "markdown",
   "id": "4477271f",
   "metadata": {},
   "source": [
    "#### Description about the dataset"
   ]
  },
  {
   "cell_type": "code",
   "execution_count": 5,
   "id": "95fd8101",
   "metadata": {},
   "outputs": [
    {
     "data": {
      "text/html": [
       "<div>\n",
       "<style scoped>\n",
       "    .dataframe tbody tr th:only-of-type {\n",
       "        vertical-align: middle;\n",
       "    }\n",
       "\n",
       "    .dataframe tbody tr th {\n",
       "        vertical-align: top;\n",
       "    }\n",
       "\n",
       "    .dataframe thead th {\n",
       "        text-align: right;\n",
       "    }\n",
       "</style>\n",
       "<table border=\"1\" class=\"dataframe\">\n",
       "  <thead>\n",
       "    <tr style=\"text-align: right;\">\n",
       "      <th></th>\n",
       "      <th>Mthly_HH_Income</th>\n",
       "      <th>Mthly_HH_Expense</th>\n",
       "      <th>No_of_Fly_Members</th>\n",
       "      <th>Emi_or_Rent_Amt</th>\n",
       "      <th>Annual_HH_Income</th>\n",
       "      <th>No_of_Earning_Members</th>\n",
       "    </tr>\n",
       "  </thead>\n",
       "  <tbody>\n",
       "    <tr>\n",
       "      <th>count</th>\n",
       "      <td>50.000000</td>\n",
       "      <td>50.000000</td>\n",
       "      <td>50.000000</td>\n",
       "      <td>50.000000</td>\n",
       "      <td>5.000000e+01</td>\n",
       "      <td>50.000000</td>\n",
       "    </tr>\n",
       "    <tr>\n",
       "      <th>mean</th>\n",
       "      <td>41558.000000</td>\n",
       "      <td>18818.000000</td>\n",
       "      <td>4.060000</td>\n",
       "      <td>3060.000000</td>\n",
       "      <td>4.900190e+05</td>\n",
       "      <td>1.460000</td>\n",
       "    </tr>\n",
       "    <tr>\n",
       "      <th>std</th>\n",
       "      <td>26097.908979</td>\n",
       "      <td>12090.216824</td>\n",
       "      <td>1.517382</td>\n",
       "      <td>6241.434948</td>\n",
       "      <td>3.201358e+05</td>\n",
       "      <td>0.734291</td>\n",
       "    </tr>\n",
       "    <tr>\n",
       "      <th>min</th>\n",
       "      <td>5000.000000</td>\n",
       "      <td>2000.000000</td>\n",
       "      <td>1.000000</td>\n",
       "      <td>0.000000</td>\n",
       "      <td>6.420000e+04</td>\n",
       "      <td>1.000000</td>\n",
       "    </tr>\n",
       "    <tr>\n",
       "      <th>25%</th>\n",
       "      <td>23550.000000</td>\n",
       "      <td>10000.000000</td>\n",
       "      <td>3.000000</td>\n",
       "      <td>0.000000</td>\n",
       "      <td>2.587500e+05</td>\n",
       "      <td>1.000000</td>\n",
       "    </tr>\n",
       "    <tr>\n",
       "      <th>50%</th>\n",
       "      <td>35000.000000</td>\n",
       "      <td>15500.000000</td>\n",
       "      <td>4.000000</td>\n",
       "      <td>0.000000</td>\n",
       "      <td>4.474200e+05</td>\n",
       "      <td>1.000000</td>\n",
       "    </tr>\n",
       "    <tr>\n",
       "      <th>75%</th>\n",
       "      <td>50375.000000</td>\n",
       "      <td>25000.000000</td>\n",
       "      <td>5.000000</td>\n",
       "      <td>3500.000000</td>\n",
       "      <td>5.947200e+05</td>\n",
       "      <td>2.000000</td>\n",
       "    </tr>\n",
       "    <tr>\n",
       "      <th>max</th>\n",
       "      <td>100000.000000</td>\n",
       "      <td>50000.000000</td>\n",
       "      <td>7.000000</td>\n",
       "      <td>35000.000000</td>\n",
       "      <td>1.404000e+06</td>\n",
       "      <td>4.000000</td>\n",
       "    </tr>\n",
       "  </tbody>\n",
       "</table>\n",
       "</div>"
      ],
      "text/plain": [
       "       Mthly_HH_Income  Mthly_HH_Expense  No_of_Fly_Members  Emi_or_Rent_Amt  \\\n",
       "count        50.000000         50.000000          50.000000        50.000000   \n",
       "mean      41558.000000      18818.000000           4.060000      3060.000000   \n",
       "std       26097.908979      12090.216824           1.517382      6241.434948   \n",
       "min        5000.000000       2000.000000           1.000000         0.000000   \n",
       "25%       23550.000000      10000.000000           3.000000         0.000000   \n",
       "50%       35000.000000      15500.000000           4.000000         0.000000   \n",
       "75%       50375.000000      25000.000000           5.000000      3500.000000   \n",
       "max      100000.000000      50000.000000           7.000000     35000.000000   \n",
       "\n",
       "       Annual_HH_Income  No_of_Earning_Members  \n",
       "count      5.000000e+01              50.000000  \n",
       "mean       4.900190e+05               1.460000  \n",
       "std        3.201358e+05               0.734291  \n",
       "min        6.420000e+04               1.000000  \n",
       "25%        2.587500e+05               1.000000  \n",
       "50%        4.474200e+05               1.000000  \n",
       "75%        5.947200e+05               2.000000  \n",
       "max        1.404000e+06               4.000000  "
      ]
     },
     "execution_count": 5,
     "metadata": {},
     "output_type": "execute_result"
    }
   ],
   "source": [
    "df.describe()"
   ]
  },
  {
   "cell_type": "markdown",
   "id": "fab6109b",
   "metadata": {},
   "source": [
    "## Measures of Central Tendency\n",
    "Measures of central tendency describe the center of the data, and are often represented by the mean, the median, and the mode."
   ]
  },
  {
   "cell_type": "markdown",
   "id": "b0c00617",
   "metadata": {},
   "source": [
    "## Mean"
   ]
  },
  {
   "cell_type": "markdown",
   "id": "2e052d01",
   "metadata": {},
   "source": [
    "Mean is the arithmetic average of the data. It is basically the center point of any data. The arithmetic mean of a data set is the sum of all values divided by the total number of values.\n",
    "\n",
    "Formula:\n",
    "$$ \\bar{x} \\ =\\frac{\\sum_{i=0}^{n} \\ x}{n} $$\n",
    "\n",
    "where \n",
    "$$ \\bar{x}:  mean $$\n",
    "$$ \\frac{\\sum_{i=0}^{n} \\ x} \\ sum \\ of \\ all \\ values \\ in \\ the\\ sample \\ data \\ set $$\n",
    "$$ n: \\ number \\ of \\ values \\ in \\ the \\ sample \\ data \\ set $$"
   ]
  },
  {
   "cell_type": "markdown",
   "id": "ff0260f6",
   "metadata": {},
   "source": [
    "### Calculating the mean of the dataset"
   ]
  },
  {
   "cell_type": "markdown",
   "id": "40b73ed1",
   "metadata": {},
   "source": [
    "#### with built-in library"
   ]
  },
  {
   "cell_type": "code",
   "execution_count": 6,
   "id": "e7f0dbe1",
   "metadata": {},
   "outputs": [
    {
     "data": {
      "text/plain": [
       "Mthly_HH_Income           41558.00\n",
       "Mthly_HH_Expense          18818.00\n",
       "No_of_Fly_Members             4.06\n",
       "Emi_or_Rent_Amt            3060.00\n",
       "Annual_HH_Income         490019.04\n",
       "No_of_Earning_Members         1.46\n",
       "dtype: float64"
      ]
     },
     "execution_count": 6,
     "metadata": {},
     "output_type": "execute_result"
    }
   ],
   "source": [
    "df.mean()"
   ]
  },
  {
   "cell_type": "markdown",
   "id": "2aa016da",
   "metadata": {},
   "source": [
    "### We can calculate the mean of the rows by specifying (axis = 1) argument."
   ]
  },
  {
   "cell_type": "code",
   "execution_count": 7,
   "id": "27fb46e6",
   "metadata": {},
   "outputs": [
    {
     "data": {
      "text/plain": [
       "0    13200.666667\n",
       "1    15987.166667\n",
       "2    21217.166667\n",
       "3    18200.333333\n",
       "4    29083.833333\n",
       "dtype: float64"
      ]
     },
     "execution_count": 7,
     "metadata": {},
     "output_type": "execute_result"
    }
   ],
   "source": [
    "df.mean(axis=1)[0:5]"
   ]
  },
  {
   "cell_type": "code",
   "execution_count": null,
   "id": "0eef0204",
   "metadata": {},
   "outputs": [],
   "source": []
  },
  {
   "cell_type": "code",
   "execution_count": 8,
   "id": "92eb75d6",
   "metadata": {},
   "outputs": [],
   "source": [
    "data = df[['Mthly_HH_Income', 'Mthly_HH_Expense', 'No_of_Fly_Members','Emi_or_Rent_Amt', 'Annual_HH_Income','No_of_Earning_Members']]"
   ]
  },
  {
   "cell_type": "code",
   "execution_count": 9,
   "id": "55dda922",
   "metadata": {},
   "outputs": [
    {
     "data": {
      "text/plain": [
       "Index(['Mthly_HH_Income', 'Mthly_HH_Expense', 'No_of_Fly_Members',\n",
       "       'Emi_or_Rent_Amt', 'Annual_HH_Income', 'No_of_Earning_Members'],\n",
       "      dtype='object')"
      ]
     },
     "execution_count": 9,
     "metadata": {},
     "output_type": "execute_result"
    }
   ],
   "source": [
    "data.columns"
   ]
  },
  {
   "cell_type": "markdown",
   "id": "c1e1e009",
   "metadata": {},
   "source": [
    "#### without using built-in function"
   ]
  },
  {
   "cell_type": "code",
   "execution_count": 10,
   "id": "be8ba88b",
   "metadata": {},
   "outputs": [
    {
     "data": {
      "text/plain": [
       "Mthly_HH_Income           41558.00\n",
       "Mthly_HH_Expense          18818.00\n",
       "No_of_Fly_Members             4.06\n",
       "Emi_or_Rent_Amt            3060.00\n",
       "Annual_HH_Income         490019.04\n",
       "No_of_Earning_Members         1.46\n",
       "dtype: float64"
      ]
     },
     "execution_count": 10,
     "metadata": {},
     "output_type": "execute_result"
    }
   ],
   "source": [
    "get_sum = data.sum()\n",
    "n = len(data)\n",
    "\n",
    "mean = (get_sum)/n\n",
    "mean"
   ]
  },
  {
   "cell_type": "code",
   "execution_count": null,
   "id": "8b33c540",
   "metadata": {},
   "outputs": [],
   "source": []
  },
  {
   "cell_type": "markdown",
   "id": "6aa66457",
   "metadata": {},
   "source": [
    "## Median"
   ]
  },
  {
   "cell_type": "markdown",
   "id": "32db77f8",
   "metadata": {},
   "source": [
    "Median is the point which divides the data point into the equal halves. The median is calculated by following steps:<br>\n",
    "1.First sorting the data in ascending order.<br>\n",
    "2.If the number of observations are odd, median is given by the middle value in the sorted form.<br>\n",
    "3.If the number of observations are even, median is given by the mean of the two middle values in the sorted form."
   ]
  },
  {
   "cell_type": "markdown",
   "id": "df736426",
   "metadata": {},
   "source": [
    "### Calculating the median of the dataset"
   ]
  },
  {
   "cell_type": "markdown",
   "id": "0b3132e1",
   "metadata": {},
   "source": [
    "#### with built-in library"
   ]
  },
  {
   "cell_type": "code",
   "execution_count": 11,
   "id": "1cfa0dd2",
   "metadata": {},
   "outputs": [
    {
     "data": {
      "text/plain": [
       "Mthly_HH_Income           35000.0\n",
       "Mthly_HH_Expense          15500.0\n",
       "No_of_Fly_Members             4.0\n",
       "Emi_or_Rent_Amt               0.0\n",
       "Annual_HH_Income         447420.0\n",
       "No_of_Earning_Members         1.0\n",
       "dtype: float64"
      ]
     },
     "execution_count": 11,
     "metadata": {},
     "output_type": "execute_result"
    }
   ],
   "source": [
    "df.median()"
   ]
  },
  {
   "cell_type": "markdown",
   "id": "cf05b064",
   "metadata": {},
   "source": [
    "### We can calculate the median of the rows by specifying (axis = 1) argument."
   ]
  },
  {
   "cell_type": "code",
   "execution_count": 12,
   "id": "812968f4",
   "metadata": {},
   "outputs": [
    {
     "data": {
      "text/plain": [
       "0    3500.0\n",
       "1    4500.0\n",
       "2    2251.0\n",
       "3    1000.5\n",
       "4    7500.0\n",
       "dtype: float64"
      ]
     },
     "execution_count": 12,
     "metadata": {},
     "output_type": "execute_result"
    }
   ],
   "source": [
    "df.median(axis=1)[0:5]"
   ]
  },
  {
   "cell_type": "code",
   "execution_count": null,
   "id": "d500f804",
   "metadata": {},
   "outputs": [],
   "source": []
  },
  {
   "cell_type": "code",
   "execution_count": 13,
   "id": "6a15bc13",
   "metadata": {},
   "outputs": [
    {
     "data": {
      "text/html": [
       "<div>\n",
       "<style scoped>\n",
       "    .dataframe tbody tr th:only-of-type {\n",
       "        vertical-align: middle;\n",
       "    }\n",
       "\n",
       "    .dataframe tbody tr th {\n",
       "        vertical-align: top;\n",
       "    }\n",
       "\n",
       "    .dataframe thead th {\n",
       "        text-align: right;\n",
       "    }\n",
       "</style>\n",
       "<table border=\"1\" class=\"dataframe\">\n",
       "  <thead>\n",
       "    <tr style=\"text-align: right;\">\n",
       "      <th></th>\n",
       "      <th>Mthly_HH_Income</th>\n",
       "      <th>Mthly_HH_Expense</th>\n",
       "      <th>No_of_Fly_Members</th>\n",
       "      <th>Emi_or_Rent_Amt</th>\n",
       "      <th>Annual_HH_Income</th>\n",
       "      <th>No_of_Earning_Members</th>\n",
       "    </tr>\n",
       "  </thead>\n",
       "  <tbody>\n",
       "    <tr>\n",
       "      <th>0</th>\n",
       "      <td>5000</td>\n",
       "      <td>2000</td>\n",
       "      <td>1</td>\n",
       "      <td>0</td>\n",
       "      <td>64200</td>\n",
       "      <td>1</td>\n",
       "    </tr>\n",
       "    <tr>\n",
       "      <th>1</th>\n",
       "      <td>6000</td>\n",
       "      <td>4500</td>\n",
       "      <td>2</td>\n",
       "      <td>0</td>\n",
       "      <td>79920</td>\n",
       "      <td>1</td>\n",
       "    </tr>\n",
       "    <tr>\n",
       "      <th>2</th>\n",
       "      <td>10000</td>\n",
       "      <td>5000</td>\n",
       "      <td>2</td>\n",
       "      <td>0</td>\n",
       "      <td>97200</td>\n",
       "      <td>1</td>\n",
       "    </tr>\n",
       "    <tr>\n",
       "      <th>3</th>\n",
       "      <td>10000</td>\n",
       "      <td>6600</td>\n",
       "      <td>2</td>\n",
       "      <td>0</td>\n",
       "      <td>112800</td>\n",
       "      <td>1</td>\n",
       "    </tr>\n",
       "    <tr>\n",
       "      <th>4</th>\n",
       "      <td>12500</td>\n",
       "      <td>7000</td>\n",
       "      <td>2</td>\n",
       "      <td>0</td>\n",
       "      <td>147000</td>\n",
       "      <td>1</td>\n",
       "    </tr>\n",
       "  </tbody>\n",
       "</table>\n",
       "</div>"
      ],
      "text/plain": [
       "   Mthly_HH_Income  Mthly_HH_Expense  No_of_Fly_Members  Emi_or_Rent_Amt  \\\n",
       "0             5000              2000                  1                0   \n",
       "1             6000              4500                  2                0   \n",
       "2            10000              5000                  2                0   \n",
       "3            10000              6600                  2                0   \n",
       "4            12500              7000                  2                0   \n",
       "\n",
       "   Annual_HH_Income  No_of_Earning_Members  \n",
       "0             64200                      1  \n",
       "1             79920                      1  \n",
       "2             97200                      1  \n",
       "3            112800                      1  \n",
       "4            147000                      1  "
      ]
     },
     "execution_count": 13,
     "metadata": {},
     "output_type": "execute_result"
    }
   ],
   "source": [
    "data = data.apply(lambda x: x.sort_values().values)\n",
    "n=len(data)\n",
    "data.head()"
   ]
  },
  {
   "cell_type": "markdown",
   "id": "19514230",
   "metadata": {},
   "source": [
    "#### without using built-in function"
   ]
  },
  {
   "cell_type": "code",
   "execution_count": 14,
   "id": "e8b90b12",
   "metadata": {},
   "outputs": [
    {
     "name": "stdout",
     "output_type": "stream",
     "text": [
      "Mthly_HH_Income 35000.0\n",
      "Mthly_HH_Expense 15500.0\n",
      "No_of_Fly_Members 4.0\n",
      "Emi_or_Rent_Amt 0.0\n",
      "Annual_HH_Income 447420.0\n",
      "No_of_Earning_Members 1.0\n"
     ]
    }
   ],
   "source": [
    "x=list(data.columns)\n",
    "z=[]\n",
    "for i in range(6):\n",
    "    z.append(list(data.iloc[0:,i]))\n",
    "for i in range(6):  \n",
    "    if n % 2 == 0:\n",
    "        median1 = z[i][n//2]\n",
    "\n",
    "        median2 = z[i][n//2 - 1]\n",
    "        median = (median1 + median2)/2\n",
    "    else:\n",
    "        median =z[i][n//2]\n",
    "\n",
    "    print(str(x[i]),(median))"
   ]
  },
  {
   "cell_type": "code",
   "execution_count": null,
   "id": "1bb34964",
   "metadata": {},
   "outputs": [],
   "source": []
  },
  {
   "cell_type": "markdown",
   "id": "eb741984",
   "metadata": {},
   "source": [
    "## Mode"
   ]
  },
  {
   "cell_type": "markdown",
   "id": "81d62a47",
   "metadata": {},
   "source": [
    "Mode represents the most frequent value of a variable in the data.<br>\n",
    "This is the only central tendency measure that can be used with categorical variables, unlike the mean and the median which can be used only with quantitative data."
   ]
  },
  {
   "cell_type": "markdown",
   "id": "9bd6f24a",
   "metadata": {},
   "source": [
    "### Calculating the mode of the dataset"
   ]
  },
  {
   "cell_type": "markdown",
   "id": "9219163a",
   "metadata": {},
   "source": [
    "#### with built-in library"
   ]
  },
  {
   "cell_type": "code",
   "execution_count": 15,
   "id": "86d643a3",
   "metadata": {},
   "outputs": [
    {
     "data": {
      "text/html": [
       "<div>\n",
       "<style scoped>\n",
       "    .dataframe tbody tr th:only-of-type {\n",
       "        vertical-align: middle;\n",
       "    }\n",
       "\n",
       "    .dataframe tbody tr th {\n",
       "        vertical-align: top;\n",
       "    }\n",
       "\n",
       "    .dataframe thead th {\n",
       "        text-align: right;\n",
       "    }\n",
       "</style>\n",
       "<table border=\"1\" class=\"dataframe\">\n",
       "  <thead>\n",
       "    <tr style=\"text-align: right;\">\n",
       "      <th></th>\n",
       "      <th>Mthly_HH_Income</th>\n",
       "      <th>Mthly_HH_Expense</th>\n",
       "      <th>No_of_Fly_Members</th>\n",
       "      <th>Emi_or_Rent_Amt</th>\n",
       "      <th>Annual_HH_Income</th>\n",
       "      <th>Highest_Qualified_Member</th>\n",
       "      <th>No_of_Earning_Members</th>\n",
       "    </tr>\n",
       "  </thead>\n",
       "  <tbody>\n",
       "    <tr>\n",
       "      <th>0</th>\n",
       "      <td>45000</td>\n",
       "      <td>25000</td>\n",
       "      <td>4</td>\n",
       "      <td>0</td>\n",
       "      <td>590400</td>\n",
       "      <td>Graduate</td>\n",
       "      <td>1</td>\n",
       "    </tr>\n",
       "  </tbody>\n",
       "</table>\n",
       "</div>"
      ],
      "text/plain": [
       "   Mthly_HH_Income  Mthly_HH_Expense  No_of_Fly_Members  Emi_or_Rent_Amt  \\\n",
       "0            45000             25000                  4                0   \n",
       "\n",
       "   Annual_HH_Income Highest_Qualified_Member  No_of_Earning_Members  \n",
       "0            590400                 Graduate                      1  "
      ]
     },
     "execution_count": 15,
     "metadata": {},
     "output_type": "execute_result"
    }
   ],
   "source": [
    "df.mode()"
   ]
  },
  {
   "cell_type": "markdown",
   "id": "be559604",
   "metadata": {},
   "source": [
    "* The mode value of 4 for the variable 'No_of_Fly_Members' means that the highest number (or frequency) of number of family members are 4.\n",
    "* Most of them are Gradutes."
   ]
  },
  {
   "cell_type": "markdown",
   "id": "db9e8180",
   "metadata": {},
   "source": [
    "#### without built-in library"
   ]
  },
  {
   "cell_type": "code",
   "execution_count": 16,
   "id": "a38fb0eb",
   "metadata": {},
   "outputs": [
    {
     "name": "stdout",
     "output_type": "stream",
     "text": [
      "Mthly_HH_Income : 45000\n",
      "Mthly_HH_Expense : 25000\n",
      "No_of_Fly_Members : 4\n",
      "Emi_or_Rent_Amt : 0\n",
      "Annual_HH_Income : 590400\n",
      "No_of_Earning_Members : 1\n"
     ]
    }
   ],
   "source": [
    "for i in range(6):\n",
    "    m=max(z[i],key=z[i].count)\n",
    "    print(str(x[i]),':',m)"
   ]
  },
  {
   "cell_type": "code",
   "execution_count": null,
   "id": "2bdf4d1a",
   "metadata": {},
   "outputs": [],
   "source": []
  },
  {
   "cell_type": "markdown",
   "id": "db340e6c",
   "metadata": {},
   "source": [
    "## Measures of Dispersion\n",
    "The most popular measures of dispersion are standard deviation, variance, and the interquartile range."
   ]
  },
  {
   "cell_type": "markdown",
   "id": "f191d700",
   "metadata": {},
   "source": [
    "### Variance\n",
    "Variance is a statistical measurement of spread between numbers in a dataset.<br>\n",
    "To be specific the variance basically measure the distance of data points from the mean of that dataset."
   ]
  },
  {
   "cell_type": "markdown",
   "id": "142a9663",
   "metadata": {},
   "source": [
    "Formula :\n",
    "    $$ \\sigma^2 =\\frac {\\sum_{i=1}^{n} (x_i - \\bar{x})^2} {n} $$\n",
    "     Where \n",
    "    $$ x^i = i^{th} \\; datapoint   $$ \n",
    "    $$ \\bar{x} = \\; Mean \\; of \\; all \\; Datapoints $$ \n",
    "    $$ n= \\; no \\; of datapoints $$"
   ]
  },
  {
   "cell_type": "markdown",
   "id": "798321fe",
   "metadata": {},
   "source": [
    "### Calculating the variance of the dataset"
   ]
  },
  {
   "cell_type": "markdown",
   "id": "0b09ba76",
   "metadata": {},
   "source": [
    "#### with built-in library"
   ]
  },
  {
   "cell_type": "code",
   "execution_count": 17,
   "id": "27db6930",
   "metadata": {},
   "outputs": [
    {
     "data": {
      "text/plain": [
       "Mthly_HH_Income          6.811009e+08\n",
       "Mthly_HH_Expense         1.461733e+08\n",
       "No_of_Fly_Members        2.302449e+00\n",
       "Emi_or_Rent_Amt          3.895551e+07\n",
       "Annual_HH_Income         1.024869e+11\n",
       "No_of_Earning_Members    5.391837e-01\n",
       "dtype: float64"
      ]
     },
     "execution_count": 17,
     "metadata": {},
     "output_type": "execute_result"
    }
   ],
   "source": [
    "df.var()"
   ]
  },
  {
   "cell_type": "markdown",
   "id": "9c92bf11",
   "metadata": {},
   "source": [
    "#### without using built-in function"
   ]
  },
  {
   "cell_type": "code",
   "execution_count": 18,
   "id": "7b5b8383",
   "metadata": {},
   "outputs": [
    {
     "name": "stdout",
     "output_type": "stream",
     "text": [
      "[667478836.0, 143249876.0, 2.2563999999999984, 38176400.0, 100437186889.95831, 0.5284]\n"
     ]
    }
   ],
   "source": [
    "sum=0\n",
    "n = len(data)\n",
    "variance=[]\n",
    "mean1=list(data.sum()/n)\n",
    "for i in range(6):\n",
    "    for j in range(50):\n",
    "        sum=sum+(z[i][j]-mean1[i])**2\n",
    "    variance.append(sum/n)\n",
    "    sum=0\n",
    "print(variance)"
   ]
  },
  {
   "cell_type": "code",
   "execution_count": null,
   "id": "b85327bb",
   "metadata": {},
   "outputs": [],
   "source": []
  },
  {
   "cell_type": "markdown",
   "id": "79009d5c",
   "metadata": {},
   "source": [
    "## Standard Deviation"
   ]
  },
  {
   "cell_type": "markdown",
   "id": "8b40eebf",
   "metadata": {},
   "source": [
    "Standard deviation is a measure that is used to quantify the amount of variation of a set of data values from its mean.<br>\n",
    "A low standard deviation for a variable indicates that the data points tend to be close to its mean, and a higher value of standard deviation denotes that the data points are spread wide range. "
   ]
  },
  {
   "cell_type": "markdown",
   "id": "a215da11",
   "metadata": {},
   "source": [
    "Formula:\n",
    "        $$ \\sigma =\\sqrt{\\frac {\\sum_{i=1}^{n} (x_i - \\bar{x})^2} {n}} $$\n",
    "\n",
    "where:\n",
    "$$ x^i \\;= \\;Value \\; of \\; the \\; i^{th} \\; point \\; in \\; the \\; data \\; set $$\n",
    "$$ \\bar{x} \\;\\; = \\; \\;The \\; mean \\; value \\; of \\; the \\; data \\; set $$\n",
    "$$ n \\; = \\; The \\; number \\; of \\; data \\; points \\; in \\; the \\; data \\; set $$"
   ]
  },
  {
   "cell_type": "markdown",
   "id": "e6137ae7",
   "metadata": {},
   "source": [
    "### Calculating the standard deviation of the dataset"
   ]
  },
  {
   "cell_type": "markdown",
   "id": "e446daa3",
   "metadata": {},
   "source": [
    "#### with built-in library"
   ]
  },
  {
   "cell_type": "code",
   "execution_count": 19,
   "id": "05ef8fb8",
   "metadata": {},
   "outputs": [
    {
     "data": {
      "text/plain": [
       "Mthly_HH_Income           26097.908979\n",
       "Mthly_HH_Expense          12090.216824\n",
       "No_of_Fly_Members             1.517382\n",
       "Emi_or_Rent_Amt            6241.434948\n",
       "Annual_HH_Income         320135.792123\n",
       "No_of_Earning_Members         0.734291\n",
       "dtype: float64"
      ]
     },
     "execution_count": 19,
     "metadata": {},
     "output_type": "execute_result"
    }
   ],
   "source": [
    "df.std()"
   ]
  },
  {
   "cell_type": "markdown",
   "id": "4a6c117a",
   "metadata": {},
   "source": [
    "#### without using built-in function"
   ]
  },
  {
   "cell_type": "code",
   "execution_count": 20,
   "id": "0e45fb63",
   "metadata": {},
   "outputs": [
    {
     "name": "stdout",
     "output_type": "stream",
     "text": [
      "[25835.611779092826, 11968.704023410388, 1.5021318184500314, 6178.705366013175, 316918.26531451027, 0.72691127381545]\n"
     ]
    }
   ],
   "source": [
    "import math\n",
    "sum=0\n",
    "n = len(data)\n",
    "stddev=[]\n",
    "mean1=list(data.sum()/n)\n",
    "for i in range(6):\n",
    "    for j in range(50):\n",
    "        sum=sum+(z[i][j]-mean1[i])**2\n",
    "    stddev.append(math.sqrt(sum/n))\n",
    "    sum=0\n",
    "print(stddev)"
   ]
  },
  {
   "cell_type": "code",
   "execution_count": null,
   "id": "a6e78e40",
   "metadata": {},
   "outputs": [],
   "source": []
  },
  {
   "cell_type": "markdown",
   "id": "b035a4a0",
   "metadata": {},
   "source": [
    "## Correlation"
   ]
  },
  {
   "cell_type": "markdown",
   "id": "e8328f10",
   "metadata": {},
   "source": [
    "Correlation is a statistical measurement to measure the relation betwen two  variables.<br>\n",
    "The Correlation between two variables lies in between -1 to +1. If our correlation value >1 or <1 then there must be some error in our calculations.<br>\n",
    "The +1 known as positive co-rrelation and -1 denotes the negative correlation."
   ]
  },
  {
   "cell_type": "markdown",
   "id": "502236b7",
   "metadata": {},
   "source": [
    "Formula:\n",
    "$$ \\ r = \\frac {\\sum_{i=1}^{n} (x_i - \\bar{x}) (y_i - \\bar{y}) }{\\sqrt {\\sum_{i=1}^{n} (x_i - \\bar{x})^2 (y_i - \\bar{y})^2}} $$\n",
    "\n",
    "where\n",
    "$$ r  =  correlation \\ coefficient $$\n",
    "$$ x_{i}\t= values \\ of \\ the \\ x-variable \\ in \\ a \\ sample $$\n",
    "$$ \\bar{x} \t=\t\\ mean \\ of \\ the \\ values \\ of \\ the \\ x-variable $$\n",
    "$$ y_{i} \t=\t\\ values \\ of \\ the \\ y-variable \\ in \\ a \\ sample $$\n",
    "$$ \\bar{y} \t=\t\\ mean \\ of \\ the \\ values \\ of \\ the \\ y-variable $$"
   ]
  },
  {
   "cell_type": "markdown",
   "id": "d2d11a84",
   "metadata": {},
   "source": [
    "### Calculating the correlation of the dataset"
   ]
  },
  {
   "cell_type": "markdown",
   "id": "06d580d1",
   "metadata": {},
   "source": [
    "#### with built-in library"
   ]
  },
  {
   "cell_type": "code",
   "execution_count": 21,
   "id": "d2e8517d",
   "metadata": {},
   "outputs": [
    {
     "data": {
      "text/html": [
       "<div>\n",
       "<style scoped>\n",
       "    .dataframe tbody tr th:only-of-type {\n",
       "        vertical-align: middle;\n",
       "    }\n",
       "\n",
       "    .dataframe tbody tr th {\n",
       "        vertical-align: top;\n",
       "    }\n",
       "\n",
       "    .dataframe thead th {\n",
       "        text-align: right;\n",
       "    }\n",
       "</style>\n",
       "<table border=\"1\" class=\"dataframe\">\n",
       "  <thead>\n",
       "    <tr style=\"text-align: right;\">\n",
       "      <th></th>\n",
       "      <th>Mthly_HH_Income</th>\n",
       "      <th>Mthly_HH_Expense</th>\n",
       "      <th>No_of_Fly_Members</th>\n",
       "      <th>Emi_or_Rent_Amt</th>\n",
       "      <th>Annual_HH_Income</th>\n",
       "      <th>No_of_Earning_Members</th>\n",
       "    </tr>\n",
       "  </thead>\n",
       "  <tbody>\n",
       "    <tr>\n",
       "      <th>Mthly_HH_Income</th>\n",
       "      <td>1.000000</td>\n",
       "      <td>0.649215</td>\n",
       "      <td>0.448317</td>\n",
       "      <td>0.036976</td>\n",
       "      <td>0.970315</td>\n",
       "      <td>0.347883</td>\n",
       "    </tr>\n",
       "    <tr>\n",
       "      <th>Mthly_HH_Expense</th>\n",
       "      <td>0.649215</td>\n",
       "      <td>1.000000</td>\n",
       "      <td>0.639702</td>\n",
       "      <td>0.405280</td>\n",
       "      <td>0.591222</td>\n",
       "      <td>0.311915</td>\n",
       "    </tr>\n",
       "    <tr>\n",
       "      <th>No_of_Fly_Members</th>\n",
       "      <td>0.448317</td>\n",
       "      <td>0.639702</td>\n",
       "      <td>1.000000</td>\n",
       "      <td>0.085808</td>\n",
       "      <td>0.430868</td>\n",
       "      <td>0.597482</td>\n",
       "    </tr>\n",
       "    <tr>\n",
       "      <th>Emi_or_Rent_Amt</th>\n",
       "      <td>0.036976</td>\n",
       "      <td>0.405280</td>\n",
       "      <td>0.085808</td>\n",
       "      <td>1.000000</td>\n",
       "      <td>0.002716</td>\n",
       "      <td>-0.097431</td>\n",
       "    </tr>\n",
       "    <tr>\n",
       "      <th>Annual_HH_Income</th>\n",
       "      <td>0.970315</td>\n",
       "      <td>0.591222</td>\n",
       "      <td>0.430868</td>\n",
       "      <td>0.002716</td>\n",
       "      <td>1.000000</td>\n",
       "      <td>0.296679</td>\n",
       "    </tr>\n",
       "    <tr>\n",
       "      <th>No_of_Earning_Members</th>\n",
       "      <td>0.347883</td>\n",
       "      <td>0.311915</td>\n",
       "      <td>0.597482</td>\n",
       "      <td>-0.097431</td>\n",
       "      <td>0.296679</td>\n",
       "      <td>1.000000</td>\n",
       "    </tr>\n",
       "  </tbody>\n",
       "</table>\n",
       "</div>"
      ],
      "text/plain": [
       "                       Mthly_HH_Income  Mthly_HH_Expense  No_of_Fly_Members  \\\n",
       "Mthly_HH_Income               1.000000          0.649215           0.448317   \n",
       "Mthly_HH_Expense              0.649215          1.000000           0.639702   \n",
       "No_of_Fly_Members             0.448317          0.639702           1.000000   \n",
       "Emi_or_Rent_Amt               0.036976          0.405280           0.085808   \n",
       "Annual_HH_Income              0.970315          0.591222           0.430868   \n",
       "No_of_Earning_Members         0.347883          0.311915           0.597482   \n",
       "\n",
       "                       Emi_or_Rent_Amt  Annual_HH_Income  \\\n",
       "Mthly_HH_Income               0.036976          0.970315   \n",
       "Mthly_HH_Expense              0.405280          0.591222   \n",
       "No_of_Fly_Members             0.085808          0.430868   \n",
       "Emi_or_Rent_Amt               1.000000          0.002716   \n",
       "Annual_HH_Income              0.002716          1.000000   \n",
       "No_of_Earning_Members        -0.097431          0.296679   \n",
       "\n",
       "                       No_of_Earning_Members  \n",
       "Mthly_HH_Income                     0.347883  \n",
       "Mthly_HH_Expense                    0.311915  \n",
       "No_of_Fly_Members                   0.597482  \n",
       "Emi_or_Rent_Amt                    -0.097431  \n",
       "Annual_HH_Income                    0.296679  \n",
       "No_of_Earning_Members               1.000000  "
      ]
     },
     "execution_count": 21,
     "metadata": {},
     "output_type": "execute_result"
    }
   ],
   "source": [
    "df.corr()"
   ]
  },
  {
   "cell_type": "code",
   "execution_count": 22,
   "id": "6b36e526",
   "metadata": {},
   "outputs": [
    {
     "data": {
      "text/plain": [
       "Text(0.5, 1.0, 'Correlation Plot to check Relation between Variables')"
      ]
     },
     "execution_count": 22,
     "metadata": {},
     "output_type": "execute_result"
    },
    {
     "data": {
      "image/png": "[encoded data removed]",
      "text/plain": [
       "<Figure size 432x288 with 2 Axes>"
      ]
     },
     "metadata": {
      "needs_background": "light"
     },
     "output_type": "display_data"
    }
   ],
   "source": [
    "sns.heatmap(df.corr(),cmap='Greens',annot=True)\n",
    "plt.title(\"Correlation Plot to check Relation between Variables\")"
   ]
  },
  {
   "cell_type": "markdown",
   "id": "fdfca184",
   "metadata": {},
   "source": [
    "* We can see that Annual Income and Monthly Income are highly correlated with each other.\n",
    "* We can see that the number of earning members and EMI or rent amount are negatively correlated with each other."
   ]
  },
  {
   "cell_type": "markdown",
   "id": "f9ea2bee",
   "metadata": {},
   "source": [
    "#### Without Library Function"
   ]
  },
  {
   "cell_type": "code",
   "execution_count": 23,
   "id": "3ac42e0c",
   "metadata": {},
   "outputs": [
    {
     "name": "stdout",
     "output_type": "stream",
     "text": [
      "Pearson Correlation Coefficient : 0.984269278598793\n"
     ]
    }
   ],
   "source": [
    "x = z[0]\n",
    "y = z[1]\n",
    "\n",
    "x_mean = np.sum(x) / len(x)\n",
    "y_mean = np.sum(y) / len(y)\n",
    "\n",
    "cov_xy = [(i - x_mean)*(j - y_mean) for i,j in zip(x,y)]\n",
    "cov_xy = np.sum(cov_xy) / len(cov_xy)\n",
    "\n",
    "x_std = (np.sum([(i - x_mean)**2 for i in x])/len(x))**0.5\n",
    "y_std = (np.sum([(i - y_mean)**2 for i in y])/len(x))**0.5\n",
    "\n",
    "correlation = cov_xy/(x_std*y_std)\n",
    "\n",
    "print('Pearson Correlation Coefficient :', correlation)"
   ]
  },
  {
   "cell_type": "markdown",
   "id": "d73e1a43",
   "metadata": {},
   "source": [
    "## Normal Distribution"
   ]
  },
  {
   "cell_type": "markdown",
   "id": "01602adc",
   "metadata": {},
   "source": [
    "Normal distribution is also known as gaussian distribution.<br>\n",
    "It is a probability distribution and also symmetric about the mean and showing the data near the mean are more frequent in occurrence than data far from the mean."
   ]
  },
  {
   "cell_type": "markdown",
   "id": "d3dfdeda",
   "metadata": {},
   "source": [
    "### Check the distribution plot for monthly expenses"
   ]
  },
  {
   "cell_type": "code",
   "execution_count": 24,
   "id": "d8ed0833",
   "metadata": {},
   "outputs": [
    {
     "data": {
      "text/plain": [
       "Text(0.5, 1.0, 'Dist plot for Monthly Expenses')"
      ]
     },
     "execution_count": 24,
     "metadata": {},
     "output_type": "execute_result"
    },
    {
     "data": {
      "image/png": "[encoded data removed]",
      "text/plain": [
       "<Figure size 432x288 with 1 Axes>"
      ]
     },
     "metadata": {
      "needs_background": "light"
     },
     "output_type": "display_data"
    }
   ],
   "source": [
    "sns.distplot(df['Mthly_HH_Expense'],color='#C03028')\n",
    "plt.title(\"Dist plot for Monthly Expenses\")"
   ]
  },
  {
   "cell_type": "markdown",
   "id": "3060014d",
   "metadata": {},
   "source": [
    "* We can observe that the minimum expense is 2000.\n",
    "* Median is around 15500.\n",
    "* We can see that Maximum value is 50000.\n",
    "* We can observe that it is a right skewed distribution."
   ]
  },
  {
   "cell_type": "code",
   "execution_count": null,
   "id": "9aac0de2",
   "metadata": {},
   "outputs": [],
   "source": []
  },
  {
   "cell_type": "markdown",
   "id": "3df1a9aa",
   "metadata": {},
   "source": [
    "## Feature of Normal Distribution"
   ]
  },
  {
   "cell_type": "markdown",
   "id": "a8bf8b1d",
   "metadata": {},
   "source": [
    "Properties of Normal Distribution are as follows:\n",
    "1. Unimodal - one mode.<br>\n",
    "2. Symmetrical -left and right halves are mirror images.<br>\n",
    "3. Bell-shaped -maximum height (mode) at the mean.<br>\n",
    "4. Mean, Mode, and Median are all located in the center.<br>\n",
    "5. Asymptotic"
   ]
  },
  {
   "cell_type": "code",
   "execution_count": null,
   "id": "40ace90f",
   "metadata": {},
   "outputs": [],
   "source": []
  },
  {
   "cell_type": "markdown",
   "id": "b438a1dd",
   "metadata": {},
   "source": [
    "### SKEW OF DISTRIBUTION "
   ]
  },
  {
   "cell_type": "markdown",
   "id": "f9d25622",
   "metadata": {},
   "source": [
    "In a Distribution if one tail is longer than other tail then it is skew.<br>\n",
    "Skewness also called as assymmetric distributions as they don't show any kind of symmetric properties but normal distribution show the symmetric property.<br>\n",
    "Symmetric means one tail is the mirror image of other half."
   ]
  },
  {
   "cell_type": "markdown",
   "id": "c54a75f7",
   "metadata": {},
   "source": [
    "### Positively Skewed & Negatively Skewed Normal Distribution"
   ]
  },
  {
   "cell_type": "markdown",
   "id": "1becaabf",
   "metadata": {},
   "source": [
    "A right-skewed or positively skewed distribution is the one where the right tail is longer than the left one.<br>\n",
    "Here the mean > median > mode."
   ]
  },
  {
   "cell_type": "markdown",
   "id": "ebe57cc9",
   "metadata": {},
   "source": [
    "A left-skewed or negatively skewed distribution is one where the left tail is longer than that of the right tail.<br>\n",
    "Here, the mean < median < mode."
   ]
  },
  {
   "cell_type": "markdown",
   "id": "a0b1a6ee",
   "metadata": {},
   "source": [
    "* 1.If skewness is < -1 or > 1, the distribution is highly skewed.\n",
    "* 2.If skewness is between -1 and -0.5 or between 0.5 and 1, the distribution is moderately skewed.\n",
    "* 3.If skewness is between -0.5 and 0.5, the distribution is approximately symmetric."
   ]
  },
  {
   "cell_type": "code",
   "execution_count": 25,
   "id": "4c95a636",
   "metadata": {},
   "outputs": [
    {
     "data": {
      "text/plain": [
       "Mthly_HH_Income          0.924615\n",
       "Mthly_HH_Expense         1.199461\n",
       "No_of_Fly_Members        0.113674\n",
       "Emi_or_Rent_Amt          3.403680\n",
       "Annual_HH_Income         1.192949\n",
       "No_of_Earning_Members    1.593301\n",
       "dtype: float64"
      ]
     },
     "execution_count": 25,
     "metadata": {},
     "output_type": "execute_result"
    }
   ],
   "source": [
    "df.skew()"
   ]
  },
  {
   "cell_type": "markdown",
   "id": "00938aed",
   "metadata": {},
   "source": [
    "* We can see that Emi_or_Rent_Amt column is highly skewed."
   ]
  },
  {
   "cell_type": "markdown",
   "id": "8307f20c",
   "metadata": {},
   "source": [
    "### Check the distribution plot for monthly income"
   ]
  },
  {
   "cell_type": "code",
   "execution_count": 26,
   "id": "ef407796",
   "metadata": {},
   "outputs": [
    {
     "data": {
      "text/plain": [
       "Text(0.5, 1.0, 'Dist plot for Monthly Income')"
      ]
     },
     "execution_count": 26,
     "metadata": {},
     "output_type": "execute_result"
    },
    {
     "data": {
      "image/png": "[encoded data removed]",
      "text/plain": [
       "<Figure size 432x288 with 1 Axes>"
      ]
     },
     "metadata": {
      "needs_background": "light"
     },
     "output_type": "display_data"
    }
   ],
   "source": [
    "sns.distplot(df['Mthly_HH_Income'],color='#C03028')\n",
    "plt.title(\"Dist plot for Monthly Income\")"
   ]
  },
  {
   "cell_type": "markdown",
   "id": "5c034976",
   "metadata": {},
   "source": [
    "* We can observe that the minimum income is 5000.\n",
    "* Median is around 35000.\n",
    "* We can see that Maximum value is 100000.\n",
    "* We can observe that it is a right skewed distribution."
   ]
  },
  {
   "cell_type": "code",
   "execution_count": null,
   "id": "9d863783",
   "metadata": {},
   "outputs": [],
   "source": []
  },
  {
   "cell_type": "markdown",
   "id": "9c73d660",
   "metadata": {},
   "source": [
    "## Effect on Mean, Median and Mode due to Skewness\n"
   ]
  },
  {
   "cell_type": "markdown",
   "id": "3577a000",
   "metadata": {},
   "source": [
    "* The preferred measure of central tendency often depends on the shape of the distribution.<br>\n",
    "Of the three measures of tendency, the <b>mean</b> is most influenced by any outliers or skewness.<br><br>\n",
    "\n",
    "* In a symmetrical distribution, the mean, median, and mode are all equal.<br>\n",
    "In these cases, the <b>mean</b> is often the preferred measure of central tendency.<br><br>\n",
    "\n",
    "* For distributions that have outliers or are skewed, the <b>median</b> is often the preferred measure of central tendency because the median is more resistant to outliers than the mean.<br><br>\n",
    "\n",
    "* If the distribution is skewed to the left that means the<b> mean < median < mode </b> <br><br>\n",
    "\n",
    "* If the distribution is skewed to the right that means the <b> mean > median > mode </b>"
   ]
  },
  {
   "cell_type": "markdown",
   "id": "190b4daa",
   "metadata": {},
   "source": [
    "### Check the distribution plot for monthly expenses"
   ]
  },
  {
   "cell_type": "code",
   "execution_count": 27,
   "id": "197197f9",
   "metadata": {},
   "outputs": [
    {
     "data": {
      "text/plain": [
       "Text(0.5, 1.0, 'Dist plot for Monthly Expenses')"
      ]
     },
     "execution_count": 27,
     "metadata": {},
     "output_type": "execute_result"
    },
    {
     "data": {
      "image/png": "[encoded data removed]",
      "text/plain": [
       "<Figure size 432x288 with 1 Axes>"
      ]
     },
     "metadata": {
      "needs_background": "light"
     },
     "output_type": "display_data"
    }
   ],
   "source": [
    "sns.distplot(df['Mthly_HH_Expense'],color='#C03028')\n",
    "plt.title(\"Dist plot for Monthly Expenses\")"
   ]
  },
  {
   "cell_type": "markdown",
   "id": "18805d0b",
   "metadata": {},
   "source": [
    "* We can observe that it is a right skewed distribution."
   ]
  },
  {
   "cell_type": "code",
   "execution_count": null,
   "id": "563116e6",
   "metadata": {},
   "outputs": [],
   "source": []
  },
  {
   "cell_type": "markdown",
   "id": "9e6ca91c",
   "metadata": {},
   "source": [
    "## Explain QQ Plot and show the implementation of the same"
   ]
  },
  {
   "cell_type": "markdown",
   "id": "fa308657",
   "metadata": {},
   "source": [
    "QQ Plots (Quantile-Quantile plots) are plots of two quantiles against each other. <br>\n",
    "The purpose of QQ plots is to find out if two sets of data come from the same distribution. "
   ]
  },
  {
   "cell_type": "markdown",
   "id": "ed4c93d3",
   "metadata": {},
   "source": [
    "#### Plotting a qqplot for monthly income"
   ]
  },
  {
   "cell_type": "code",
   "execution_count": 28,
   "id": "eb18653a",
   "metadata": {},
   "outputs": [
    {
     "data": {
      "image/png": "[encoded data removed]",
      "text/plain": [
       "<Figure size 432x288 with 1 Axes>"
      ]
     },
     "metadata": {
      "needs_background": "light"
     },
     "output_type": "display_data"
    }
   ],
   "source": [
    "stats.probplot(df['Mthly_HH_Income'], dist=\"norm\",plot=plt)\n",
    "plt.grid()"
   ]
  },
  {
   "cell_type": "code",
   "execution_count": null,
   "id": "e6e51b63",
   "metadata": {},
   "outputs": [],
   "source": []
  },
  {
   "cell_type": "markdown",
   "id": "02edde9c",
   "metadata": {},
   "source": [
    "## Explain Box Cox and show the implementation of the same\n"
   ]
  },
  {
   "cell_type": "markdown",
   "id": "a6f7ddde",
   "metadata": {},
   "source": [
    "A Box-Cox plot is basically used to convert the non-normally distributed dataset into the normally distributed dataset."
   ]
  },
  {
   "cell_type": "markdown",
   "id": "91c19fb2",
   "metadata": {},
   "source": [
    "#### Box-Cox transformation"
   ]
  },
  {
   "cell_type": "code",
   "execution_count": 29,
   "id": "1e8c3a41",
   "metadata": {},
   "outputs": [
    {
     "data": {
      "text/plain": [
       "<AxesSubplot:ylabel='Density'>"
      ]
     },
     "execution_count": 29,
     "metadata": {},
     "output_type": "execute_result"
    },
    {
     "data": {
      "image/png": "[encoded data removed]",
      "text/plain": [
       "<Figure size 432x288 with 1 Axes>"
      ]
     },
     "metadata": {
      "needs_background": "light"
     },
     "output_type": "display_data"
    }
   ],
   "source": [
    "#generate dataset\n",
    "df = np.random.exponential(size=1000)\n",
    "\n",
    "#plot the distribution of data values\n",
    "sns.distplot(df, hist=False, kde=True) "
   ]
  },
  {
   "cell_type": "markdown",
   "id": "e8deb504",
   "metadata": {},
   "source": [
    "* We can see that the distribution does not appear to be normal.\n",
    "* So, we can use the boxcox() function to plot in order that make a normal distributed dataset."
   ]
  },
  {
   "cell_type": "code",
   "execution_count": 30,
   "id": "235e0767",
   "metadata": {},
   "outputs": [
    {
     "data": {
      "text/plain": [
       "<AxesSubplot:ylabel='Density'>"
      ]
     },
     "execution_count": 30,
     "metadata": {},
     "output_type": "execute_result"
    },
    {
     "data": {
      "image/png": "[encoded data removed]",
      "text/plain": [
       "<Figure size 432x288 with 1 Axes>"
      ]
     },
     "metadata": {
      "needs_background": "light"
     },
     "output_type": "display_data"
    }
   ],
   "source": [
    "#perform Box-Cox transformation on data\n",
    "transformed_data, best_lambda = boxcox(df) \n",
    "\n",
    "#plot the distribution of the transformed data values\n",
    "sns.distplot(transformed_data, hist=False, kde=True) "
   ]
  },
  {
   "cell_type": "markdown",
   "id": "6796a930",
   "metadata": {},
   "source": [
    "* We can see that the transformed data follows much more of a normal distribution."
   ]
  },
  {
   "cell_type": "code",
   "execution_count": null,
   "id": "89cfbc9d",
   "metadata": {},
   "outputs": [],
   "source": []
  },
  {
   "cell_type": "markdown",
   "id": "cab168e1",
   "metadata": {},
   "source": [
    "### Pareto Distribution"
   ]
  },
  {
   "cell_type": "markdown",
   "id": "17c6f161",
   "metadata": {},
   "source": [
    "A distribution following Pareto's law i.e. 80-20 distribution (20% factors cause 80% outcome).<br>\n",
    "\n",
    "It has two parameter:<br>\n",
    "\n",
    "    a - shape parameter.\n",
    "\n",
    "    size - The shape of the returned array."
   ]
  },
  {
   "cell_type": "markdown",
   "id": "52b7fab8",
   "metadata": {},
   "source": [
    "#### Visualization of Pareto Distribution"
   ]
  },
  {
   "cell_type": "code",
   "execution_count": 31,
   "id": "2ab3fedd",
   "metadata": {},
   "outputs": [
    {
     "data": {
      "image/png": "[encoded data removed]",
      "text/plain": [
       "<Figure size 432x288 with 1 Axes>"
      ]
     },
     "metadata": {
      "needs_background": "light"
     },
     "output_type": "display_data"
    }
   ],
   "source": [
    "from numpy import random\n",
    "\n",
    "sns.distplot(random.pareto(a=2, size=1000), kde=False)\n",
    "\n",
    "plt.show()"
   ]
  },
  {
   "cell_type": "code",
   "execution_count": null,
   "id": "cd134b3b",
   "metadata": {},
   "outputs": [],
   "source": []
  },
  {
   "cell_type": "markdown",
   "id": "fa85fb92",
   "metadata": {},
   "source": [
    "### Log Normal Distribution"
   ]
  },
  {
   "cell_type": "markdown",
   "id": "b8d81ccd",
   "metadata": {},
   "source": [
    "A lognormal (log-normal or Galton) distribution is a probability distribution with a normally distributed logarithm. A random variable is lognormally distributed if its logarithm is normally distributed.<br>\n",
    "\n",
    "Skewed distributions with low mean values, large variance, and all-positive values often fit this type of distribution. Values must be positive as log(x) exists only for positive values of x."
   ]
  },
  {
   "cell_type": "code",
   "execution_count": null,
   "id": "e7cf80e9",
   "metadata": {},
   "outputs": [],
   "source": []
  },
  {
   "cell_type": "markdown",
   "id": "2727c0c6",
   "metadata": {},
   "source": [
    "### Binomial Distribution"
   ]
  },
  {
   "cell_type": "markdown",
   "id": "d1be2f3e",
   "metadata": {},
   "source": [
    "A binomial distribution is a simply the probability of a SUCCESS or FAILURE outcome in an experiment or survey that is repeated multiple times. The binomial is a type of distribution that has two possible outcomes (the prefix “bi” means two, or twice).<br>\n",
    "        * The number of trials has to be fixed.<br>\n",
    "        * The events must be independent.<br>\n",
    "        * Each trial outcome must be either a success or a failure.<br>\n",
    "        * Probabilities must remain constant for each trial."
   ]
  },
  {
   "cell_type": "markdown",
   "id": "552fc380",
   "metadata": {},
   "source": [
    "Formula:\n",
    "$$ \\mu \\ = \\ n \\ p $$\n",
    "\n",
    "$$ \\sigma^2 \\ = \\ n \\ p \\ q $$\n",
    "\n",
    "$$ \\sigma = \\sqrt \\ n \\ p \\ q $$\n",
    "\n",
    "where:\n",
    "$$ \\ P = \\ probability \\ of \\ success \\ in \\ one \\ trial.$$\n",
    "$$ \\ Q = \\ 1-p = \\ probability \\ of \\ failure \\ in \\ one \\ trail.$$\n",
    "$$ \\ N = \\ number \\ of \\ trails.$$"
   ]
  },
  {
   "cell_type": "code",
   "execution_count": null,
   "id": "a054f8cf",
   "metadata": {},
   "outputs": [],
   "source": []
  },
  {
   "cell_type": "markdown",
   "id": "0e97dd1a",
   "metadata": {},
   "source": [
    "### Bernoulli distribution"
   ]
  },
  {
   "cell_type": "markdown",
   "id": "df4bf1d6",
   "metadata": {},
   "source": [
    "A Bernoulli distribution is a special case of the binomial distribution. We assume a trial which has a probability of success p, and failure 1-p.<br>\n",
    "In such cases, we assume that n = 1. Thus, the parameters of the distribution become:"
   ]
  },
  {
   "cell_type": "markdown",
   "id": "51feeb3b",
   "metadata": {},
   "source": [
    "Formula:\n",
    "$$ \\mu \\ = \\ p $$\n",
    "\n",
    "$$ \\sigma^2 \\ = \\ p \\ (1\\ -\\ p) $$\n",
    "\n",
    "$$ \\sigma = \\sqrt \\ p (1\\ -\\ p) $$\n",
    "\n",
    "where:\n",
    "$$ \\ P = \\ probability \\ of \\ success \\ in \\ one \\ trial.$$\n",
    "$$ \\ Q = \\ 1-p = \\ probability \\ of \\ failure \\ in \\ one \\ trail.$$\n",
    "$$ \\ N = \\ number \\ of \\ trails.$$\n"
   ]
  }
 ],
 "metadata": {
  "kernelspec": {
   "display_name": "Python 3",
   "language": "python",
   "name": "python3"
  },
  "language_info": {
   "codemirror_mode": {
    "name": "ipython",
    "version": 3
   },
   "file_extension": ".py",
   "mimetype": "text/x-python",
   "name": "python",
   "nbconvert_exporter": "python",
   "pygments_lexer": "ipython3",
   "version": "3.8.8"
  }
 },
 "nbformat": 4,
 "nbformat_minor": 5
}
